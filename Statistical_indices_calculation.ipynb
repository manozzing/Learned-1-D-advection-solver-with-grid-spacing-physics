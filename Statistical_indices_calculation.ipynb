{
 "cells": [
  {
   "cell_type": "code",
   "execution_count": 2,
   "id": "5c42297f",
   "metadata": {},
   "outputs": [],
   "source": [
    "#### Import packages!!!\n",
    "#import Pkg\n",
    "#Pkg.add(\"Plots\")\n",
    "using Plots\n",
    "#Pkg.add(\"BenchmarkTools\")\n",
    "using BenchmarkTools\n",
    "#Pkg.add(\"Flux\")\n",
    "using Flux\n",
    "#Pkg.add(\"CSV\")\n",
    "using CSV\n",
    "#Pkg.add(\"DelimitedFiles\")\n",
    "using DelimitedFiles\n",
    "#Pkg.add(\"Statistics\")\n",
    "using Statistics\n",
    "#Pkg.add(\"BSON\")\n",
    "using BSON: @save\n",
    "using BSON: @load\n",
    "#Pkg.add(\"StatsBase\")\n",
    "using StatsBase"
   ]
  },
  {
   "cell_type": "code",
   "execution_count": 2,
   "id": "8cabbe60",
   "metadata": {},
   "outputs": [],
   "source": [
    "vel_GEOS_Array = readdlm(\"Vel_GEOS_Jan_2019_NASA_GMAO.csv\", ',', Float32);\n",
    "scalar_GEOS_Array = readdlm(\"VL_GEOS_Jan_2019_NASA_GMAO.csv\", ',', Float32);\n",
    "history = (scalar_GEOS_Array, vel_GEOS_Array);"
   ]
  },
  {
   "cell_type": "code",
   "execution_count": 6,
   "id": "b96ca97b",
   "metadata": {
    "scrolled": true
   },
   "outputs": [
    {
     "name": "stdout",
     "output_type": "stream",
     "text": [
      "10   1.2190529629868012e-8   1.9635100558402353e-8   Float32[0.5304706;;]\n",
      "20   1.2214746757567103e-8   1.975310523793714e-8   Float32[0.5393646;;]\n",
      "30   1.2006945122187334e-8   1.946402990457634e-8   Float32[0.53552544;;]\n",
      "40   1.1624899351318164e-8   1.862176589645143e-8   Float32[0.59780484;;]\n",
      "50   1.1757524688671703e-8   1.8698536980753346e-8   Float32[0.5935899;;]\n",
      "60   7.806380803178964e-9   1.0999523010176561e-8   Float32[0.82873046;;]\n",
      "70   1.0398138002034064e-8   1.5727449366918533e-8   Float32[0.696903;;]\n",
      "80   1.223742909483352e-8   1.8742083895274706e-8   Float32[0.6319236;;]\n",
      "90   1.4842074089242904e-8   2.2271217063787147e-8   Float32[0.51101434;;]\n",
      "100   1.4808348418215312e-8   2.2199981375140934e-8   Float32[0.5105;;]\n",
      "110   1.3582184919290838e-8   2.042876610757306e-8   Float32[0.55414116;;]\n",
      "120   1.0538844919700234e-8   1.4428062030741367e-8   Float32[0.7211816;;]\n",
      "130   1.1237054211163672e-8   1.640794774258499e-8   Float32[0.6861918;;]\n",
      "140   1.2654411219298483e-8   1.938763573646825e-8   Float32[0.6105222;;]\n",
      "150   1.2505479250377039e-8   1.9154891908977837e-8   Float32[0.6211346;;]\n",
      "160   1.0648443313993305e-8   1.634070325225321e-8   Float32[0.70186603;;]\n",
      "170   1.0901707856024088e-8   1.62108145339201e-8   Float32[0.715007;;]\n",
      "180   9.845836040986955e-9   1.3767385500744698e-8   Float32[0.787855;;]\n",
      "190   1.0030712928412686e-8   1.4083161048608094e-8   Float32[0.7801818;;]\n",
      "200   1.0238851351283246e-8   1.4102428311709984e-8   Float32[0.7937022;;]\n",
      "210   1.1219530779938266e-8   1.592788236894124e-8   Float32[0.75247604;;]\n",
      "220   1.0834005059997833e-8   1.5852625055403203e-8   Float32[0.75282514;;]\n",
      "230   1.1611553761309939e-8   1.7395074490990395e-8   Float32[0.71067923;;]\n",
      "240   1.1456758962433282e-8   1.7522804666274698e-8   Float32[0.6957573;;]\n",
      "250   1.1721557399698498e-8   1.8388789565665674e-8   Float32[0.64778745;;]\n",
      "260   1.1138933631144295e-8   1.698252773280244e-8   Float32[0.71085685;;]\n",
      "270   1.1161792106412181e-8   1.749649381899623e-8   Float32[0.674391;;]\n",
      "280   1.0496691454777274e-8   1.6493475439391403e-8   Float32[0.6902411;;]\n",
      "290   1.0232280449879373e-8   1.5990115469078683e-8   Float32[0.7048948;;]\n",
      "300   9.8955305375592e-9   1.554306908622591e-8   Float32[0.70558035;;]\n"
     ]
    }
   ],
   "source": [
    "temp = readdlm(\"VL_GEOS_Jan_2019_NASA_GMAO_16x_1x.csv\", ',', Float32)\n",
    "xdim = size(temp, 1)\n",
    "\n",
    "for i in 1:30\n",
    "    trial = readdlm(\"spacing_phys_norm_outputs/CNN_DLR_\"*string(10*i)*\"_16x1x_VL_GEOS_JAN_NASA_GMAO.csv\", ',', Float32)\n",
    "    \n",
    "    dim = size(trial, 1)    \n",
    "    nstep = Int(dim/xdim)\n",
    "    answer = temp[:,1:nstep]\n",
    "    \n",
    "    mae = StatsBase.L1dist(trial, reshape(answer,dim))/(dim)\n",
    "    rmse = StatsBase.L2dist(trial, reshape(answer,dim))/sqrt(dim)\n",
    "    r2 = Statistics.cor(trial, reshape(answer, dim))^2\n",
    "    \n",
    "    println(10*i, \"   \", mae, \"   \", rmse, \"   \", r2)\n",
    "end"
   ]
  },
  {
   "cell_type": "code",
   "execution_count": 50,
   "id": "364f86ad",
   "metadata": {},
   "outputs": [
    {
     "name": "stdout",
     "output_type": "stream",
     "text": [
      "results:    1.3948281740049696e8   1.4420992367250817e9   0.0006294268\n"
     ]
    }
   ],
   "source": [
    "coarse = readdlm(\"VanLeer_Coarse_GEOS_Jan_2019_NASA_GEOS_1x_64x.csv\", ',', Float32)\n",
    "xdim = size(coarse, 1)\n",
    "nstep = size(coarse, 2)\n",
    "dim = xdim*nstep \n",
    "\n",
    "downsample = readdlm(\"VL_GEOS_Jan_2019_NASA_GMAO_1x_64x.csv\", ',', Float32)\n",
    "    \n",
    "mae = StatsBase.L1dist(downsample, coarse)/(dim)\n",
    "rmse = StatsBase.L2dist(downsample, coarse)/sqrt(dim)\n",
    "r2 = Statistics.cor(reshape(downsample, dim), reshape(coarse, dim))^2\n",
    "    \n",
    "println(\"results: \", \"   \", mae, \"   \", rmse, \"   \", r2)"
   ]
  },
  {
   "cell_type": "code",
   "execution_count": 8,
   "id": "31c4c795",
   "metadata": {},
   "outputs": [
    {
     "data": {
      "text/plain": [
       "201×1440 Matrix{Float32}:\n",
       " 0.0  0.0  0.0  0.0  0.0  0.0  0.0  0.0  0.0  …  4.70292f-10  4.66047f-10\n",
       " 0.0  0.0  0.0  0.0  0.0  0.0  0.0  0.0  0.0     1.32385f-9   1.31786f-9\n",
       " 0.0  0.0  0.0  0.0  0.0  0.0  0.0  0.0  0.0     2.04741f-9   2.04855f-9\n",
       " 0.0  0.0  0.0  0.0  0.0  0.0  0.0  0.0  0.0     2.72557f-9   2.74292f-9\n",
       " 0.0  0.0  0.0  0.0  0.0  0.0  0.0  0.0  0.0     3.43249f-9   3.46054f-9\n",
       " 0.0  0.0  0.0  0.0  0.0  0.0  0.0  0.0  0.0  …  4.15184f-9   4.17883f-9\n",
       " 0.0  0.0  0.0  0.0  0.0  0.0  0.0  0.0  0.0     4.89402f-9   4.9247f-9\n",
       " 0.0  0.0  0.0  0.0  0.0  0.0  0.0  0.0  0.0     5.8392f-9    5.88542f-9\n",
       " 0.0  0.0  0.0  0.0  0.0  0.0  0.0  0.0  0.0     7.22665f-9   7.26781f-9\n",
       " 0.0  0.0  0.0  0.0  0.0  0.0  0.0  0.0  0.0     9.02015f-9   9.05793f-9\n",
       " 0.0  0.0  0.0  0.0  0.0  0.0  0.0  0.0  0.0  …  1.11046f-8   1.11648f-8\n",
       " 0.0  0.0  0.0  0.0  0.0  0.0  0.0  0.0  0.0     1.35152f-8   1.34829f-8\n",
       " 0.0  0.0  0.0  0.0  0.0  0.0  0.0  0.0  0.0     1.56303f-8   1.54938f-8\n",
       " ⋮                        ⋮                   ⋱               \n",
       " 0.0  0.0  0.0  0.0  0.0  0.0  0.0  0.0  0.0     4.64173f-8   4.64298f-8\n",
       " 0.0  0.0  0.0  0.0  0.0  0.0  0.0  0.0  0.0  …  5.09075f-8   5.09723f-8\n",
       " 0.0  0.0  0.0  0.0  0.0  0.0  0.0  0.0  0.0     5.53409f-8   5.53224f-8\n",
       " 0.0  0.0  0.0  0.0  0.0  0.0  0.0  0.0  0.0     5.94593f-8   5.87882f-8\n",
       " 0.0  0.0  0.0  0.0  0.0  0.0  0.0  0.0  0.0     6.14685f-8   6.08107f-8\n",
       " 0.0  0.0  0.0  0.0  0.0  0.0  0.0  0.0  0.0     6.16342f-8   6.17247f-8\n",
       " 0.0  0.0  0.0  0.0  0.0  0.0  0.0  0.0  0.0  …  6.29309f-8   6.31484f-8\n",
       " 0.0  0.0  0.0  0.0  0.0  0.0  0.0  0.0  0.0     6.5091f-8    6.51102f-8\n",
       " 0.0  0.0  0.0  0.0  0.0  0.0  0.0  0.0  0.0     6.66382f-8   6.66704f-8\n",
       " 0.0  0.0  0.0  0.0  0.0  0.0  0.0  0.0  0.0     6.75919f-8   6.75931f-8\n",
       " 0.0  0.0  0.0  0.0  0.0  0.0  0.0  0.0  0.0     6.7995f-8    6.78972f-8\n",
       " 0.0  0.0  0.0  0.0  0.0  0.0  0.0  0.0  0.0  …  6.80258f-8   6.79651f-8"
      ]
     },
     "execution_count": 8,
     "metadata": {},
     "output_type": "execute_result"
    }
   ],
   "source": [
    "coarse = readdlm(\"VanLeer_Coarse_GEOS_Jan_2019_NASA_GEOS_1x_2x.csv\", ',', Float32)"
   ]
  },
  {
   "cell_type": "code",
   "execution_count": 9,
   "id": "e6d067fd",
   "metadata": {},
   "outputs": [
    {
     "data": {
      "text/plain": [
       "201×1440 Matrix{Float32}:\n",
       " 0.0  0.0  0.0  0.0  0.0  0.0  0.0  0.0  0.0  …  4.86822f-10  4.85198f-10\n",
       " 0.0  0.0  0.0  0.0  0.0  0.0  0.0  0.0  0.0     1.41291f-9   1.41098f-9\n",
       " 0.0  0.0  0.0  0.0  0.0  0.0  0.0  0.0  0.0     2.26464f-9   2.26604f-9\n",
       " 0.0  0.0  0.0  0.0  0.0  0.0  0.0  0.0  0.0     3.08332f-9   3.09199f-9\n",
       " 0.0  0.0  0.0  0.0  0.0  0.0  0.0  0.0  0.0     3.90499f-9   3.91622f-9\n",
       " 0.0  0.0  0.0  0.0  0.0  0.0  0.0  0.0  0.0  …  4.70996f-9   4.71554f-9\n",
       " 0.0  0.0  0.0  0.0  0.0  0.0  0.0  0.0  0.0     5.49051f-9   5.49184f-9\n",
       " 0.0  0.0  0.0  0.0  0.0  0.0  0.0  0.0  0.0     6.33491f-9   6.33691f-9\n",
       " 0.0  0.0  0.0  0.0  0.0  0.0  0.0  0.0  0.0     7.35403f-9   7.345f-9\n",
       " 0.0  0.0  0.0  0.0  0.0  0.0  0.0  0.0  0.0     8.50249f-9   8.48292f-9\n",
       " 0.0  0.0  0.0  0.0  0.0  0.0  0.0  0.0  0.0  …  9.69615f-9   9.67894f-9\n",
       " 0.0  0.0  0.0  0.0  0.0  0.0  0.0  0.0  0.0     1.09398f-8   1.08802f-8\n",
       " 0.0  0.0  0.0  0.0  0.0  0.0  0.0  0.0  0.0     1.19937f-8   1.1893f-8\n",
       " ⋮                        ⋮                   ⋱               \n",
       " 0.0  0.0  0.0  0.0  0.0  0.0  0.0  0.0  0.0     5.14656f-8   5.14202f-8\n",
       " 0.0  0.0  0.0  0.0  0.0  0.0  0.0  0.0  0.0  …  5.487f-8     5.48301f-8\n",
       " 0.0  0.0  0.0  0.0  0.0  0.0  0.0  0.0  0.0     5.8206f-8    5.81073f-8\n",
       " 0.0  0.0  0.0  0.0  0.0  0.0  0.0  0.0  0.0     6.13049f-8   6.08629f-8\n",
       " 0.0  0.0  0.0  0.0  0.0  0.0  0.0  0.0  0.0     6.32507f-8   6.28166f-8\n",
       " 0.0  0.0  0.0  0.0  0.0  0.0  0.0  0.0  0.0     6.42077f-8   6.41616f-8\n",
       " 0.0  0.0  0.0  0.0  0.0  0.0  0.0  0.0  0.0  …  6.57274f-8   6.57481f-8\n",
       " 0.0  0.0  0.0  0.0  0.0  0.0  0.0  0.0  0.0     6.76548f-8   6.7569f-8\n",
       " 0.0  0.0  0.0  0.0  0.0  0.0  0.0  0.0  0.0     6.91867f-8   6.91011f-8\n",
       " 0.0  0.0  0.0  0.0  0.0  0.0  0.0  0.0  0.0     7.02949f-8   7.01854f-8\n",
       " 0.0  0.0  0.0  0.0  0.0  0.0  0.0  0.0  0.0     7.09542f-8   7.07857f-8\n",
       " 0.0  0.0  0.0  0.0  0.0  0.0  0.0  0.0  0.0  …  7.12109f-8   7.10568f-8"
      ]
     },
     "execution_count": 9,
     "metadata": {},
     "output_type": "execute_result"
    }
   ],
   "source": [
    "downsample = readdlm(\"VL_GEOS_Jan_2019_NASA_GMAO_1x_2x.csv\", ',', Float32)"
   ]
  },
  {
   "cell_type": "code",
   "execution_count": 29,
   "id": "f5ae43f9",
   "metadata": {},
   "outputs": [
    {
     "data": {
      "text/plain": [
       "201"
      ]
     },
     "execution_count": 29,
     "metadata": {},
     "output_type": "execute_result"
    }
   ],
   "source": [
    "answer = readdlm(\"VL_GEOS_Jan_2019_NASA_GMAO.csv\", ',', Float32)[:,1:2880]\n",
    "xdim = size(answer, 1)"
   ]
  },
  {
   "cell_type": "code",
   "execution_count": 19,
   "id": "09e11300",
   "metadata": {},
   "outputs": [
    {
     "data": {
      "text/plain": [
       "201×2880 Matrix{Float32}:\n",
       " 4.36347f-14  0.0          0.0          …  0.0         0.0         0.0\n",
       " 1.96687f-13  3.90572f-10  7.58077f-10     1.23835f-9  1.2383f-9   1.23825f-9\n",
       " 4.66526f-13  8.4072f-10   1.36643f-9      1.95605f-9  1.95596f-9  1.95588f-9\n",
       " 4.76315f-13  8.16821f-10  1.3695f-9       2.50591f-9  2.50573f-9  2.50556f-9\n",
       " 8.68148f-13  6.63495f-10  1.21227f-9      3.11147f-9  3.11122f-9  3.11099f-9\n",
       " 1.57308f-12  5.90729f-10  1.14189f-9   …  3.56481f-9  3.56448f-9  3.56418f-9\n",
       " 2.89006f-12  5.63556f-10  1.0453f-9       3.92876f-9  3.9282f-9   3.92768f-9\n",
       " 9.63771f-14  4.87394f-10  9.11908f-10     4.45299f-9  4.45193f-9  4.45094f-9\n",
       " 1.835f-12    3.5461f-10   7.10696f-10     5.10592f-9  5.10436f-9  5.10292f-9\n",
       " 2.76743f-12  2.34318f-10  5.39928f-10     5.90118f-9  5.8992f-9   5.89742f-9\n",
       " 1.57962f-12  2.86348f-10  5.4852f-10   …  6.95873f-9  6.95676f-9  6.95501f-9\n",
       " 3.07007f-12  1.72289f-10  4.18051f-10     7.85866f-9  7.85722f-9  7.85603f-9\n",
       " 2.22607f-12  2.44424f-10  4.85547f-10     8.64845f-9  8.64829f-9  8.6484f-9\n",
       " ⋮                                      ⋱                          \n",
       " 2.97647f-12  5.09808f-10  1.03981f-9      2.53362f-8  2.53298f-8  2.53234f-8\n",
       " 3.46287f-12  1.27587f-10  4.14548f-10  …  2.81839f-8  2.81754f-8  2.8167f-8\n",
       " 1.20796f-12  3.08806f-10  6.44547f-10     3.08766f-8  3.08658f-8  3.08551f-8\n",
       " 2.46419f-12  9.98085f-11  2.94662f-10     3.36758f-8  3.36625f-8  3.36492f-8\n",
       " 1.05129f-12  9.51961f-11  2.28644f-10     3.61625f-8  3.6147f-8   3.61318f-8\n",
       " 3.25379f-12  2.45079f-11  1.23059f-10     3.83561f-8  3.83398f-8  3.83238f-8\n",
       " 1.77888f-12  0.0          0.0          …  4.12357f-8  4.12199f-8  4.12044f-8\n",
       " 3.37194f-12  0.0          0.0             4.4628f-8   4.4614f-8   4.46003f-8\n",
       " 2.78137f-12  0.0          0.0             4.79925f-8  4.79813f-8  4.79701f-8\n",
       " 1.42011f-12  0.0          0.0             5.12084f-8  5.12001f-8  5.11916f-8\n",
       " 1.63438f-12  5.29004f-10  6.43608f-10     5.33557f-8  5.33492f-8  5.33425f-8\n",
       " 1.6571f-12   9.1061f-11   2.13916f-10  …  5.41536f-8  5.41474f-8  5.41409f-8"
      ]
     },
     "execution_count": 19,
     "metadata": {},
     "output_type": "execute_result"
    }
   ],
   "source": [
    "reshape(readdlm(\"CNN_DLR_\"*string(10)*\"_1x1x_VL_GEOS_JAN_NASA_GMAO.csv\", ',', Float32), 201, 2880)"
   ]
  },
  {
   "cell_type": "code",
   "execution_count": 12,
   "id": "6f7d6a0b",
   "metadata": {},
   "outputs": [
    {
     "ename": "LoadError",
     "evalue": "syntax: \"string(i)\" is not a valid function argument name around In[12]:6",
     "output_type": "error",
     "traceback": [
      "syntax: \"string(i)\" is not a valid function argument name around In[12]:6",
      "",
      "Stacktrace:",
      " [1] top-level scope",
      "   @ In[12]:1",
      " [2] eval",
      "   @ ./boot.jl:373 [inlined]",
      " [3] include_string(mapexpr::typeof(REPL.softscope), mod::Module, code::String, filename::String)",
      "   @ Base ./loading.jl:1196"
     ]
    }
   ],
   "source": [
    "for i in (1, 2, 4, 8, 16)\n",
    "    for j in (1, 2, 4, 8, 16, 32, 64)\n",
    "        if i == 1 && j == 1\n",
    "            println(\"skip\")\n",
    "        else\n",
    "            coarse_grained_s_*string(i)*x_*string(j)*x = \n",
    "            readdlm(\"VL_GEOS_Jan_2019_NASA_GMAO_\"*string(i)*\"x_\"*string(j)*:\"x.csv\", ',', Float32)\n",
    "        end\n",
    "    end\n",
    "end"
   ]
  },
  {
   "cell_type": "code",
   "execution_count": 11,
   "id": "abe2e5c5",
   "metadata": {},
   "outputs": [
    {
     "name": "stdout",
     "output_type": "stream",
     "text": [
      "1\n",
      "2\n",
      "4\n",
      "8\n"
     ]
    }
   ],
   "source": [
    "for i in (1, 2, 4, 8)\n",
    "    println(string(i))\n",
    "end"
   ]
  },
  {
   "cell_type": "code",
   "execution_count": 2,
   "id": "81eb6101",
   "metadata": {},
   "outputs": [],
   "source": [
    "learned_2x1t_10 = readdlm(\"CNN_DLR_10_INPUT_NORM_VL_GEOS_JAN.csv\", ',', Float32);"
   ]
  },
  {
   "cell_type": "code",
   "execution_count": 28,
   "id": "520d1231",
   "metadata": {},
   "outputs": [],
   "source": [
    "learned_2x2t_10 = Float32(1e-7)*readdlm(\"CNN_DLR_10_2x2x_INPUT_NORM_VL_GEOS_JAN.csv\", ',', Float32);\n",
    "learned_2x2t_20 = Float32(1e-7)*readdlm(\"CNN_DLR_20_2x2x_INPUT_NORM_VL_GEOS_JAN.csv\", ',', Float32);\n",
    "learned_2x2t_30 = Float32(1e-7)*readdlm(\"CNN_DLR_30_2x2x_INPUT_NORM_VL_GEOS_JAN.csv\", ',', Float32);\n",
    "learned_2x2t_50 = Float32(1e-7)*readdlm(\"CNN_DLR_50_2x2x_INPUT_NORM_VL_GEOS_JAN.csv\", ',', Float32);\n",
    "learned_2x2t_70 = Float32(1e-7)*readdlm(\"CNN_DLR_70_2x2x_INPUT_NORM_VL_GEOS_JAN.csv\", ',', Float32);"
   ]
  },
  {
   "cell_type": "code",
   "execution_count": 35,
   "id": "97cf5dcf",
   "metadata": {},
   "outputs": [],
   "source": [
    "learned_2x4t_10 = Float32(1e-7)*readdlm(\"CNN_DLR_10_2x4x_INPUT_NORM_VL_GEOS_JAN.csv\", ',', Float32);\n",
    "learned_2x4t_30 = Float32(1e-7)*readdlm(\"CNN_DLR_30_2x4x_INPUT_NORM_VL_GEOS_JAN.csv\", ',', Float32);\n",
    "learned_2x4t_50 = Float32(1e-7)*readdlm(\"CNN_DLR_50_2x4x_INPUT_NORM_VL_GEOS_JAN.csv\", ',', Float32);\n",
    "learned_2x4t_100 = Float32(1e-7)*readdlm(\"CNN_DLR_100_2x4x_INPUT_NORM_VL_GEOS_JAN.csv\", ',', Float32);"
   ]
  },
  {
   "cell_type": "code",
   "execution_count": 4,
   "id": "b3489b02",
   "metadata": {},
   "outputs": [],
   "source": [
    "learned_2x8t_100 = Float32(1e-7)*readdlm(\"CNN_DLR_100_2x8x_INPUT_NORM_VL_GEOS_JAN.csv\", ',', Float32);\n",
    "learned_2x16t_100 = Float32(1e-7)*readdlm(\"CNN_DLR_100_2x16x_INPUT_NORM_VL_GEOS_JAN.csv\", ',', Float32);\n",
    "learned_2x32t_100 = Float32(1e-7)*readdlm(\"CNN_DLR_100_2x32x_INPUT_NORM_VL_GEOS_JAN.csv\", ',', Float32);\n",
    "learned_2x64t_100 = Float32(1e-7)*readdlm(\"CNN_DLR_100_2x64x_INPUT_NORM_VL_GEOS_JAN.csv\", ',', Float32);"
   ]
  },
  {
   "cell_type": "code",
   "execution_count": 81,
   "id": "8a90dcbb",
   "metadata": {},
   "outputs": [],
   "source": [
    "learned_4x1t_10 = Float32(1e-7)*readdlm(\"CNN_DLR_10_4x_INPUT_NORM_VL_GEOS_JAN.csv\", ',', Float32);\n",
    "learned_4x1t_100 = Float32(1e-7)*readdlm(\"CNN_DLR_100_4x_INPUT_NORM_VL_GEOS_JAN.csv\", ',', Float32);\n",
    "\n",
    "learned_4x2t_10 = Float32(1e-7)*readdlm(\"CNN_DLR_10_4x2x_INPUT_NORM_VL_GEOS_JAN.csv\", ',', Float32);\n",
    "learned_4x2t_30 = Float32(1e-7)*readdlm(\"CNN_DLR_30_4x2x_INPUT_NORM_VL_GEOS_JAN.csv\", ',', Float32);\n",
    "learned_4x2t_50 = Float32(1e-7)*readdlm(\"CNN_DLR_50_4x2x_INPUT_NORM_VL_GEOS_JAN.csv\", ',', Float32);\n",
    "learned_4x2t_100 = Float32(1e-7)*readdlm(\"CNN_DLR_100_4x2x_INPUT_NORM_VL_GEOS_JAN.csv\", ',', Float32);\n",
    "learned_4x2t_150 = Float32(1e-7)*readdlm(\"CNN_DLR_150_4x2x_INPUT_NORM_VL_GEOS_JAN.csv\", ',', Float32);\n",
    "learned_4x2t_200 = Float32(1e-7)*readdlm(\"CNN_DLR_200_4x2x_INPUT_NORM_VL_GEOS_JAN.csv\", ',', Float32);\n",
    "learned_4x2t_300 = Float32(1e-7)*readdlm(\"CNN_DLR_300_4x2x_INPUT_NORM_VL_GEOS_JAN.csv\", ',', Float32);\n",
    "\n",
    "learned_4x4t_100 = Float32(1e-7)*readdlm(\"CNN_DLR_100_4x4x_INPUT_NORM_VL_GEOS_JAN.csv\", ',', Float32);\n",
    "\n",
    "learned_4x8t_100 = Float32(1e-7)*readdlm(\"CNN_DLR_100_4x8x_INPUT_NORM_VL_GEOS_JAN.csv\", ',', Float32);\n",
    "learned_4x8t_200 = Float32(1e-7)*readdlm(\"CNN_DLR_200_4x8x_INPUT_NORM_VL_GEOS_JAN.csv\", ',', Float32);\n",
    "learned_4x8t_300 = Float32(1e-7)*readdlm(\"CNN_DLR_300_4x8x_INPUT_NORM_VL_GEOS_JAN.csv\", ',', Float32);\n",
    "\n",
    "learned_4x16t_100 = Float32(1e-7)*readdlm(\"CNN_DLR_100_4x16x_INPUT_NORM_VL_GEOS_JAN.csv\", ',', Float32);\n",
    "\n",
    "learned_4x32t_100 = Float32(1e-7)*readdlm(\"CNN_DLR_100_4x32x_INPUT_NORM_VL_GEOS_JAN.csv\", ',', Float32);\n",
    "\n",
    "learned_4x64t_100 = Float32(1e-7)*readdlm(\"CNN_DLR_100_4x64x_INPUT_NORM_VL_GEOS_JAN.csv\", ',', Float32);"
   ]
  },
  {
   "cell_type": "code",
   "execution_count": 93,
   "id": "448f4a92",
   "metadata": {},
   "outputs": [],
   "source": [
    "learned_8x1t_50 = Float32(1e-7)*readdlm(\"CNN_DLR_50_8x_INPUT_NORM_VL_GEOS_JAN.csv\", ',', Float32);\n",
    "learned_8x1t_100 = Float32(1e-7)*readdlm(\"CNN_DLR_100_8x_INPUT_NORM_VL_GEOS_JAN.csv\", ',', Float32);\n",
    "\n",
    "learned_8x2t_100 = Float32(1e-7)*readdlm(\"CNN_DLR_100_8x2x_INPUT_NORM_VL_GEOS_JAN.csv\", ',', Float32);\n",
    "\n",
    "learned_8x4t_100 = Float32(1e-7)*readdlm(\"CNN_DLR_100_8x4x_INPUT_NORM_VL_GEOS_JAN.csv\", ',', Float32);\n",
    "learned_8x4t_200 = Float32(1e-7)*readdlm(\"CNN_DLR_200_8x4x_INPUT_NORM_VL_GEOS_JAN.csv\", ',', Float32);\n",
    "\n",
    "learned_8x8t_100 = Float32(1e-7)*readdlm(\"CNN_DLR_100_8x8x_INPUT_NORM_VL_GEOS_JAN.csv\", ',', Float32);\n",
    "learned_8x8t_200 = Float32(1e-7)*readdlm(\"CNN_DLR_200_8x8x_INPUT_NORM_VL_GEOS_JAN.csv\", ',', Float32);\n",
    "learned_8x8t_500 = Float32(1e-7)*readdlm(\"CNN_DLR_500_8x8x_INPUT_NORM_VL_GEOS_JAN.csv\", ',', Float32);\n",
    "\n",
    "learned_8x16t_100 = Float32(1e-7)*readdlm(\"CNN_DLR_100_8x16x_INPUT_NORM_VL_GEOS_JAN.csv\", ',', Float32);\n",
    "learned_8x16t_200 = Float32(1e-7)*readdlm(\"CNN_DLR_200_8x16x_INPUT_NORM_VL_GEOS_JAN.csv\", ',', Float32);\n",
    "learned_8x16t_500 = Float32(1e-7)*readdlm(\"CNN_DLR_500_8x16x_INPUT_NORM_VL_GEOS_JAN.csv\", ',', Float32);\n",
    "\n",
    "learned_8x32t_100 = Float32(1e-7)*readdlm(\"CNN_DLR_100_8x32x_INPUT_NORM_VL_GEOS_JAN.csv\", ',', Float32);\n",
    "\n",
    "learned_8x64t_100 = Float32(1e-7)*readdlm(\"CNN_DLR_100_8x64x_INPUT_NORM_VL_GEOS_JAN.csv\", ',', Float32);"
   ]
  },
  {
   "cell_type": "code",
   "execution_count": 103,
   "id": "6bfc93b4",
   "metadata": {},
   "outputs": [],
   "source": [
    "learned_16x1t_50 = Float32(1e-7)*readdlm(\"CNN_DLR_50_16x_INPUT_NORM_VL_GEOS_JAN.csv\", ',', Float32);\n",
    "learned_16x1t_100 = Float32(1e-7)*readdlm(\"CNN_DLR_100_16x_INPUT_NORM_VL_GEOS_JAN.csv\", ',', Float32);\n",
    "learned_16x1t_200 = Float32(1e-7)*readdlm(\"CNN_DLR_200_16x_INPUT_NORM_VL_GEOS_JAN.csv\", ',', Float32);\n",
    "\n",
    "learned_16x2t_100 = Float32(1e-7)*readdlm(\"CNN_DLR_100_16x2x_INPUT_NORM_VL_GEOS_JAN.csv\", ',', Float32);\n",
    "learned_16x2t_200 = Float32(1e-7)*readdlm(\"CNN_DLR_200_16x2x_INPUT_NORM_VL_GEOS_JAN.csv\", ',', Float32);\n",
    "\n",
    "learned_16x4t_100 = Float32(1e-7)*readdlm(\"CNN_DLR_100_16x4x_INPUT_NORM_VL_GEOS_JAN.csv\", ',', Float32);\n",
    "learned_16x4t_200 = Float32(1e-7)*readdlm(\"CNN_DLR_200_16x4x_INPUT_NORM_VL_GEOS_JAN.csv\", ',', Float32);\n",
    "\n",
    "learned_16x8t_100 = Float32(1e-7)*readdlm(\"CNN_DLR_100_16x8x_INPUT_NORM_VL_GEOS_JAN.csv\", ',', Float32);\n",
    "learned_16x8t_200 = Float32(1e-7)*readdlm(\"CNN_DLR_200_16x8x_INPUT_NORM_VL_GEOS_JAN.csv\", ',', Float32);\n",
    "learned_16x8t_500 = Float32(1e-7)*readdlm(\"CNN_DLR_500_16x8x_INPUT_NORM_VL_GEOS_JAN.csv\", ',', Float32);\n",
    "\n",
    "learned_16x16t_100 = Float32(1e-7)*readdlm(\"CNN_DLR_100_16x16x_INPUT_NORM_VL_GEOS_JAN.csv\", ',', Float32);\n",
    "learned_16x16t_200 = Float32(1e-7)*readdlm(\"CNN_DLR_200_16x16x_INPUT_NORM_VL_GEOS_JAN.csv\", ',', Float32);\n",
    "learned_16x16t_500 = Float32(1e-7)*readdlm(\"CNN_DLR_500_16x16x_INPUT_NORM_VL_GEOS_JAN.csv\", ',', Float32);\n",
    "\n",
    "learned_16x32t_100 = Float32(1e-7)*readdlm(\"CNN_DLR_100_16x32x_INPUT_NORM_VL_GEOS_JAN.csv\", ',', Float32);\n",
    "learned_16x32t_200 = Float32(1e-7)*readdlm(\"CNN_DLR_200_16x32x_INPUT_NORM_VL_GEOS_JAN.csv\", ',', Float32);\n",
    "learned_16x32t_500 = Float32(1e-7)*readdlm(\"CNN_DLR_500_16x32x_INPUT_NORM_VL_GEOS_JAN.csv\", ',', Float32);\n",
    "learned_16x32t_1000 = Float32(1e-7)*readdlm(\"CNN_DLR_1000_16x32x_INPUT_NORM_VL_GEOS_JAN.csv\", ',', Float32);\n",
    "\n",
    "learned_16x64t_100 = Float32(1e-7)*readdlm(\"CNN_DLR_100_16x64x_INPUT_NORM_VL_GEOS_JAN.csv\", ',', Float32);\n",
    "learned_16x64t_200 = Float32(1e-7)*readdlm(\"CNN_DLR_200_16x64x_INPUT_NORM_VL_GEOS_JAN.csv\", ',', Float32);\n",
    "learned_16x64t_500 = Float32(1e-7)*readdlm(\"CNN_DLR_500_16x64x_INPUT_NORM_VL_GEOS_JAN.csv\", ',', Float32);\n",
    "learned_16x64t_1000 = Float32(1e-7)*readdlm(\"CNN_DLR_1000_16x64x_INPUT_NORM_VL_GEOS_JAN.csv\", ',', Float32);"
   ]
  },
  {
   "cell_type": "code",
   "execution_count": 49,
   "id": "4ec19542",
   "metadata": {},
   "outputs": [
    {
     "data": {
      "text/plain": [
       "(1.0375804f-7, 1.1047412f-7)"
      ]
     },
     "execution_count": 49,
     "metadata": {},
     "output_type": "execute_result"
    }
   ],
   "source": [
    "maximum(learned_2x4t_100), maximum(coarse_grained_s_2x_4x)"
   ]
  },
  {
   "cell_type": "code",
   "execution_count": 27,
   "id": "caa8bf58",
   "metadata": {},
   "outputs": [
    {
     "data": {
      "text/plain": [
       "(5.529968010658672e-9, 8.187697931853814e-9, Float32[0.8916525;;])"
      ]
     },
     "execution_count": 27,
     "metadata": {},
     "output_type": "execute_result"
    }
   ],
   "source": [
    "StatsBase.L1dist(learned_2x1t_10, coarse_grained_s_2x)/(101*2880),\n",
    "StatsBase.L2dist(learned_2x1t_10, coarse_grained_s_2x)/sqrt(101*2880),\n",
    "Statistics.cor(learned_2x1t_10, reshape(coarse_grained_s_2x, 290880))^2"
   ]
  },
  {
   "cell_type": "code",
   "execution_count": 29,
   "id": "ffcc19c5",
   "metadata": {},
   "outputs": [
    {
     "data": {
      "text/plain": [
       "((1.1546319543429841e-8, 1.618069933287246e-8, Float32[0.7237806;;]), (1.0411336896278885e-8, 1.6515113280317582e-8, Float32[0.67751926;;]), (8.815618624906877e-9, 1.4089618078817861e-8, Float32[0.7554108;;]), (8.829304103923199e-9, 1.4014319740153415e-8, Float32[0.725272;;]))"
      ]
     },
     "execution_count": 29,
     "metadata": {},
     "output_type": "execute_result"
    }
   ],
   "source": [
    "(StatsBase.L1dist(learned_2x2t_10, coarse_grained_s_2x_2x)/(101*1440),\n",
    "StatsBase.L2dist(learned_2x2t_10, coarse_grained_s_2x_2x)/sqrt(101*1440),\n",
    "Statistics.cor(learned_2x2t_10, reshape(coarse_grained_s_2x_2x, 101*1440))^2),\n",
    "\n",
    "(StatsBase.L1dist(learned_2x2t_20, coarse_grained_s_2x_2x)/(101*1440),\n",
    "StatsBase.L2dist(learned_2x2t_20, coarse_grained_s_2x_2x)/sqrt(101*1440),\n",
    "Statistics.cor(learned_2x2t_20, reshape(coarse_grained_s_2x_2x, 101*1440))^2),\n",
    "\n",
    "(StatsBase.L1dist(learned_2x2t_30, coarse_grained_s_2x_2x)/(101*1440),\n",
    "StatsBase.L2dist(learned_2x2t_30, coarse_grained_s_2x_2x)/sqrt(101*1440),\n",
    "Statistics.cor(learned_2x2t_30, reshape(coarse_grained_s_2x_2x, 101*1440))^2),\n",
    "\n",
    "(StatsBase.L1dist(learned_2x2t_70, coarse_grained_s_2x_2x)/(101*1440),\n",
    "StatsBase.L2dist(learned_2x2t_70, coarse_grained_s_2x_2x)/sqrt(101*1440),\n",
    "Statistics.cor(learned_2x2t_70, reshape(coarse_grained_s_2x_2x, 101*1440))^2)"
   ]
  },
  {
   "cell_type": "code",
   "execution_count": 53,
   "id": "a3b7e836",
   "metadata": {},
   "outputs": [
    {
     "data": {
      "text/plain": [
       "((1.601482854793302e-8, 2.1225590183996506e-8, Float32[0.37176698;;]), (1.490707538853319e-8, 2.0269100692644047e-8, Float32[0.4411493;;]), (8.883612596502337e-9, 1.3546304542543726e-8, Float32[0.75342745;;]), (4.31502572976091e-9, 5.987177054869747e-9, Float32[0.94806755;;]))"
      ]
     },
     "execution_count": 53,
     "metadata": {},
     "output_type": "execute_result"
    }
   ],
   "source": [
    "(StatsBase.L1dist(learned_2x4t_10, coarse_grained_s_2x_4x)/(101*720),\n",
    "StatsBase.L2dist(learned_2x4t_10, coarse_grained_s_2x_4x)/sqrt(101*720),\n",
    "Statistics.cor(learned_2x4t_10, reshape(coarse_grained_s_2x_4x, 101*720))^2),\n",
    "\n",
    "(StatsBase.L1dist(learned_2x4t_30, coarse_grained_s_2x_4x)/(101*720),\n",
    "StatsBase.L2dist(learned_2x4t_30, coarse_grained_s_2x_4x)/sqrt(101*720),\n",
    "Statistics.cor(learned_2x4t_30, reshape(coarse_grained_s_2x_4x, 101*720))^2),\n",
    "\n",
    "(StatsBase.L1dist(learned_2x4t_50, coarse_grained_s_2x_4x)/(101*720),\n",
    "StatsBase.L2dist(learned_2x4t_50, coarse_grained_s_2x_4x)/sqrt(101*720),\n",
    "Statistics.cor(learned_2x4t_50, reshape(coarse_grained_s_2x_4x, 101*720))^2),\n",
    "\n",
    "(StatsBase.L1dist(learned_2x4t_100, coarse_grained_s_2x_4x)/(101*720),\n",
    "StatsBase.L2dist(learned_2x4t_100, coarse_grained_s_2x_4x)/sqrt(101*720),\n",
    "Statistics.cor(learned_2x4t_100, reshape(coarse_grained_s_2x_4x, 101*720))^2)"
   ]
  },
  {
   "cell_type": "code",
   "execution_count": 78,
   "id": "a3f0f263",
   "metadata": {},
   "outputs": [
    {
     "data": {
      "text/plain": [
       "((3.991529534378493e-9, 5.212503944330129e-9, Float32[0.9552793;;]), (3.883896349892738e-9, 5.0774205455962035e-9, Float32[0.9554591;;]), (5.106585303748061e-9, 6.825496951427194e-9, 0.9238885f0), (5.146297847335005e-9, 7.21272355816849e-9, Float32[0.91215837;;]))"
      ]
     },
     "execution_count": 78,
     "metadata": {},
     "output_type": "execute_result"
    }
   ],
   "source": [
    "(StatsBase.L1dist(learned_2x8t_100, coarse_grained_s_2x_8x)/(101*360),\n",
    "StatsBase.L2dist(learned_2x8t_100, coarse_grained_s_2x_8x)/sqrt(101*360),\n",
    "Statistics.cor(learned_2x8t_100, reshape(coarse_grained_s_2x_8x, 101*360))^2),\n",
    "\n",
    "(StatsBase.L1dist(learned_2x16t_100, coarse_grained_s_2x_16x)/(101*180),\n",
    "StatsBase.L2dist(learned_2x16t_100, coarse_grained_s_2x_16x)/sqrt(101*180),\n",
    "Statistics.cor(learned_2x16t_100, reshape(coarse_grained_s_2x_16x, 101*180))^2),\n",
    "\n",
    "(StatsBase.L1dist(learned_2x32t_100[1:9090], coarse_grained_s_2x_32x)/(101*90),\n",
    "StatsBase.L2dist(learned_2x32t_100[1:9090], coarse_grained_s_2x_32x)/sqrt(101*90),\n",
    "Statistics.cor(learned_2x32t_100[1:9090], reshape(coarse_grained_s_2x_32x, 101*90))^2),\n",
    "\n",
    "(StatsBase.L1dist(learned_2x64t_100, coarse_grained_s_2x_64x)/(101*45),\n",
    "StatsBase.L2dist(learned_2x64t_100, coarse_grained_s_2x_64x)/sqrt(101*45),\n",
    "Statistics.cor(learned_2x64t_100, reshape(coarse_grained_s_2x_64x, 101*45))^2)"
   ]
  },
  {
   "cell_type": "code",
   "execution_count": 86,
   "id": "cb17bf94",
   "metadata": {},
   "outputs": [
    {
     "data": {
      "text/plain": [
       "((2.995196066585542e-8, 3.837356232347296e-8, Float32[0.63447475;;]), (1.3316684242529367e-8, 2.0340104369854824e-8, Float32[0.53283983;;]))"
      ]
     },
     "execution_count": 86,
     "metadata": {},
     "output_type": "execute_result"
    }
   ],
   "source": [
    "(StatsBase.L1dist(learned_4x1t_10, coarse_grained_s_4x)/(51*2880),\n",
    "StatsBase.L2dist(learned_4x1t_10, coarse_grained_s_4x)/sqrt(51*2880),\n",
    "Statistics.cor(learned_4x1t_10, reshape(coarse_grained_s_4x, 51*2880))^2),\n",
    "\n",
    "(StatsBase.L1dist(learned_4x1t_100, coarse_grained_s_4x)/(51*2880),\n",
    "StatsBase.L2dist(learned_4x1t_100, coarse_grained_s_4x)/sqrt(51*2880),\n",
    "Statistics.cor(learned_4x1t_100, reshape(coarse_grained_s_4x, 51*2880))^2)"
   ]
  },
  {
   "cell_type": "code",
   "execution_count": 89,
   "id": "e2d5d17b",
   "metadata": {},
   "outputs": [
    {
     "data": {
      "text/plain": [
       "((1.850782633753624e-8, 2.395048358509109e-8, Float32[0.39571503;;]), (1.2847941129012226e-8, 1.8589814101902206e-8, Float32[0.61150944;;]), (1.0094073955607896e-8, 1.6101935537515835e-8, Float32[0.8079981;;]), (1.954034980181855e-8, 3.1668710093083055e-8, Float32[0.62360775;;]), (1.946979968495926e-8, 3.0778575474619084e-8, Float32[0.6354693;;]), (1.1853260372165059e-8, 1.778076526546872e-8, Float32[0.79085904;;]), (1.3774572056545393e-8, 2.0516501403949874e-8, Float32[0.7437328;;]))"
      ]
     },
     "execution_count": 89,
     "metadata": {},
     "output_type": "execute_result"
    }
   ],
   "source": [
    "(StatsBase.L1dist(learned_4x2t_10, coarse_grained_s_4x_2x)/(51*1440),\n",
    "StatsBase.L2dist(learned_4x2t_10, coarse_grained_s_4x_2x)/sqrt(51*1440),\n",
    "Statistics.cor(learned_4x2t_10, reshape(coarse_grained_s_4x_2x, 51*1440))^2),\n",
    "\n",
    "(StatsBase.L1dist(learned_4x2t_30, coarse_grained_s_4x_2x)/(51*1440),\n",
    "StatsBase.L2dist(learned_4x2t_30, coarse_grained_s_4x_2x)/sqrt(51*1440),\n",
    "Statistics.cor(learned_4x2t_30, reshape(coarse_grained_s_4x_2x, 51*1440))^2),\n",
    "\n",
    "(StatsBase.L1dist(learned_4x2t_50, coarse_grained_s_4x_2x)/(51*1440),\n",
    "StatsBase.L2dist(learned_4x2t_50, coarse_grained_s_4x_2x)/sqrt(51*1440),\n",
    "Statistics.cor(learned_4x2t_50, reshape(coarse_grained_s_4x_2x, 51*1440))^2),\n",
    "\n",
    "(StatsBase.L1dist(learned_4x2t_100, coarse_grained_s_4x_2x)/(51*1440),\n",
    "StatsBase.L2dist(learned_4x2t_100, coarse_grained_s_4x_2x)/sqrt(51*1440),\n",
    "Statistics.cor(learned_4x2t_100, reshape(coarse_grained_s_4x_2x, 51*1440))^2),\n",
    "\n",
    "(StatsBase.L1dist(learned_4x2t_150, coarse_grained_s_4x_2x)/(51*1440),\n",
    "StatsBase.L2dist(learned_4x2t_150, coarse_grained_s_4x_2x)/sqrt(51*1440),\n",
    "Statistics.cor(learned_4x2t_150, reshape(coarse_grained_s_4x_2x, 51*1440))^2),\n",
    "\n",
    "(StatsBase.L1dist(learned_4x2t_200, coarse_grained_s_4x_2x)/(51*1440),\n",
    "StatsBase.L2dist(learned_4x2t_200, coarse_grained_s_4x_2x)/sqrt(51*1440),\n",
    "Statistics.cor(learned_4x2t_200, reshape(coarse_grained_s_4x_2x, 51*1440))^2),\n",
    "\n",
    "(StatsBase.L1dist(learned_4x2t_300, coarse_grained_s_4x_2x)/(51*1440),\n",
    "StatsBase.L2dist(learned_4x2t_300, coarse_grained_s_4x_2x)/sqrt(51*1440),\n",
    "Statistics.cor(learned_4x2t_300, reshape(coarse_grained_s_4x_2x, 51*1440))^2)"
   ]
  },
  {
   "cell_type": "code",
   "execution_count": 90,
   "id": "3f5ea915",
   "metadata": {},
   "outputs": [
    {
     "data": {
      "text/plain": [
       "(1.0541219871642578e-8, 1.4030407782946949e-8, Float32[0.87185717;;])"
      ]
     },
     "execution_count": 90,
     "metadata": {},
     "output_type": "execute_result"
    }
   ],
   "source": [
    "(StatsBase.L1dist(learned_4x4t_100, coarse_grained_s_4x_4x)/(51*720),\n",
    "StatsBase.L2dist(learned_4x4t_100, coarse_grained_s_4x_4x)/sqrt(51*720),\n",
    "Statistics.cor(learned_4x4t_100, reshape(coarse_grained_s_4x_4x, 51*720))^2)"
   ]
  },
  {
   "cell_type": "code",
   "execution_count": 91,
   "id": "be48b668",
   "metadata": {},
   "outputs": [
    {
     "data": {
      "text/plain": [
       "((3.857973770659092e-9, 5.502994764918562e-9, Float32[0.95401907;;]), (6.515453812220976e-9, 9.934934278878075e-9, Float32[0.9112674;;]), (5.197349690860815e-9, 7.491997836285103e-9, Float32[0.9273836;;]))"
      ]
     },
     "execution_count": 91,
     "metadata": {},
     "output_type": "execute_result"
    }
   ],
   "source": [
    "(StatsBase.L1dist(learned_4x8t_100, coarse_grained_s_4x_8x)/(51*360),\n",
    "StatsBase.L2dist(learned_4x8t_100, coarse_grained_s_4x_8x)/sqrt(51*360),\n",
    "Statistics.cor(learned_4x8t_100, reshape(coarse_grained_s_4x_8x, 51*360))^2),\n",
    "\n",
    "(StatsBase.L1dist(learned_4x8t_200, coarse_grained_s_4x_8x)/(51*360),\n",
    "StatsBase.L2dist(learned_4x8t_200, coarse_grained_s_4x_8x)/sqrt(51*360),\n",
    "Statistics.cor(learned_4x8t_200, reshape(coarse_grained_s_4x_8x, 51*360))^2),\n",
    "\n",
    "(StatsBase.L1dist(learned_4x8t_300, coarse_grained_s_4x_8x)/(51*360),\n",
    "StatsBase.L2dist(learned_4x8t_300, coarse_grained_s_4x_8x)/sqrt(51*360),\n",
    "Statistics.cor(learned_4x8t_300, reshape(coarse_grained_s_4x_8x, 51*360))^2)"
   ]
  },
  {
   "cell_type": "code",
   "execution_count": 92,
   "id": "4226618d",
   "metadata": {},
   "outputs": [
    {
     "data": {
      "text/plain": [
       "((9.333182609801023e-9, 1.3117159841410394e-8, Float32[0.8744482;;]), (5.593689483673732e-9, 7.931294871832854e-9, Float32[0.9345478;;]), (4.93507237315722e-9, 6.782821906206313e-9, Float32[0.9221735;;]))"
      ]
     },
     "execution_count": 92,
     "metadata": {},
     "output_type": "execute_result"
    }
   ],
   "source": [
    "(StatsBase.L1dist(learned_4x16t_100, coarse_grained_s_4x_16x)/(51*180),\n",
    "StatsBase.L2dist(learned_4x16t_100, coarse_grained_s_4x_16x)/sqrt(51*180),\n",
    "Statistics.cor(learned_4x16t_100, reshape(coarse_grained_s_4x_16x, 51*180))^2),\n",
    "\n",
    "(StatsBase.L1dist(learned_4x32t_100, coarse_grained_s_4x_32x)/(51*90),\n",
    "StatsBase.L2dist(learned_4x32t_100, coarse_grained_s_4x_32x)/sqrt(51*90),\n",
    "Statistics.cor(learned_4x32t_100, reshape(coarse_grained_s_4x_32x, 51*90))^2),\n",
    "\n",
    "(StatsBase.L1dist(learned_4x64t_100, coarse_grained_s_4x_64x)/(51*45),\n",
    "StatsBase.L2dist(learned_4x64t_100, coarse_grained_s_4x_64x)/sqrt(51*45),\n",
    "Statistics.cor(learned_4x64t_100, reshape(coarse_grained_s_4x_64x, 51*45))^2)"
   ]
  },
  {
   "cell_type": "code",
   "execution_count": 97,
   "id": "e3b845f9",
   "metadata": {},
   "outputs": [
    {
     "data": {
      "text/plain": [
       "((3.5180200276172166e-8, 5.502356379206634e-8, Float32[0.4242901;;]), (2.087608816403953e-8, 2.796248160686873e-8, Float32[0.40340692;;]))"
      ]
     },
     "execution_count": 97,
     "metadata": {},
     "output_type": "execute_result"
    }
   ],
   "source": [
    "(StatsBase.L1dist(learned_8x1t_50, coarse_grained_s_8x)/(26*2880),\n",
    "StatsBase.L2dist(learned_8x1t_50, coarse_grained_s_8x)/sqrt(26*2880),\n",
    "Statistics.cor(learned_8x1t_50, reshape(coarse_grained_s_8x, 26*2880))^2),\n",
    "\n",
    "(StatsBase.L1dist(learned_8x1t_100, coarse_grained_s_8x)/(26*2880),\n",
    "StatsBase.L2dist(learned_8x1t_100, coarse_grained_s_8x)/sqrt(26*2880),\n",
    "Statistics.cor(learned_8x1t_100, reshape(coarse_grained_s_8x, 26*2880))^2)"
   ]
  },
  {
   "cell_type": "code",
   "execution_count": 98,
   "id": "6a8d6cea",
   "metadata": {},
   "outputs": [
    {
     "data": {
      "text/plain": [
       "(8.122374007069797e-9, 1.114342807116372e-8, Float32[0.7829478;;])"
      ]
     },
     "execution_count": 98,
     "metadata": {},
     "output_type": "execute_result"
    }
   ],
   "source": [
    "(StatsBase.L1dist(learned_8x2t_100, coarse_grained_s_8x_2x)/(26*1440),\n",
    "StatsBase.L2dist(learned_8x2t_100, coarse_grained_s_8x_2x)/sqrt(26*1440),\n",
    "Statistics.cor(learned_8x2t_100, reshape(coarse_grained_s_8x_2x, 26*1440))^2)"
   ]
  },
  {
   "cell_type": "code",
   "execution_count": 99,
   "id": "4a4a74b7",
   "metadata": {},
   "outputs": [
    {
     "data": {
      "text/plain": [
       "((1.2817182904430514e-8, 2.0387533797575624e-8, Float32[0.55519885;;]), (1.0225776961124685e-8, 1.7612265290307547e-8, Float32[0.6166922;;]))"
      ]
     },
     "execution_count": 99,
     "metadata": {},
     "output_type": "execute_result"
    }
   ],
   "source": [
    "(StatsBase.L1dist(learned_8x4t_100, coarse_grained_s_8x_4x)/(26*720),\n",
    "StatsBase.L2dist(learned_8x4t_100, coarse_grained_s_8x_4x)/sqrt(26*720),\n",
    "Statistics.cor(learned_8x4t_100, reshape(coarse_grained_s_8x_4x, 26*720))^2),\n",
    "\n",
    "(StatsBase.L1dist(learned_8x4t_200, coarse_grained_s_8x_4x)/(26*720),\n",
    "StatsBase.L2dist(learned_8x4t_200, coarse_grained_s_8x_4x)/sqrt(26*720),\n",
    "Statistics.cor(learned_8x4t_200, reshape(coarse_grained_s_8x_4x, 26*720))^2)"
   ]
  },
  {
   "cell_type": "code",
   "execution_count": 100,
   "id": "b95adfa9",
   "metadata": {},
   "outputs": [
    {
     "data": {
      "text/plain": [
       "((8.967634642706967e-9, 1.4574297652794018e-8, Float32[0.7520892;;]), (1.6538273738713464e-8, 2.358408155529663e-8, Float32[0.69746685;;]), (5.7396803079329055e-9, 7.89156226279968e-9, Float32[0.9048668;;]))"
      ]
     },
     "execution_count": 100,
     "metadata": {},
     "output_type": "execute_result"
    }
   ],
   "source": [
    "(StatsBase.L1dist(learned_8x8t_100, coarse_grained_s_8x_8x)/(26*360),\n",
    "StatsBase.L2dist(learned_8x8t_100, coarse_grained_s_8x_8x)/sqrt(26*360),\n",
    "Statistics.cor(learned_8x8t_100, reshape(coarse_grained_s_8x_8x, 26*360))^2),\n",
    "\n",
    "(StatsBase.L1dist(learned_8x8t_200, coarse_grained_s_8x_8x)/(26*360),\n",
    "StatsBase.L2dist(learned_8x8t_200, coarse_grained_s_8x_8x)/sqrt(26*360),\n",
    "Statistics.cor(learned_8x8t_200, reshape(coarse_grained_s_8x_8x, 26*360))^2),\n",
    "\n",
    "(StatsBase.L1dist(learned_8x8t_500, coarse_grained_s_8x_8x)/(26*360),\n",
    "StatsBase.L2dist(learned_8x8t_500, coarse_grained_s_8x_8x)/sqrt(26*360),\n",
    "Statistics.cor(learned_8x8t_500, reshape(coarse_grained_s_8x_8x, 26*360))^2)"
   ]
  },
  {
   "cell_type": "code",
   "execution_count": 101,
   "id": "7f5d5f61",
   "metadata": {},
   "outputs": [
    {
     "data": {
      "text/plain": [
       "((6.431658206722537e-9, 8.593558409942683e-9, Float32[0.8747534;;]), (5.979704102566535e-9, 9.873914506209776e-9, Float32[0.8564004;;]), (1.0149477844425095e-8, 1.4139705544991632e-8, Float32[0.7326084;;]))"
      ]
     },
     "execution_count": 101,
     "metadata": {},
     "output_type": "execute_result"
    }
   ],
   "source": [
    "(StatsBase.L1dist(learned_8x16t_100, coarse_grained_s_8x_16x)/(26*180),\n",
    "StatsBase.L2dist(learned_8x16t_100, coarse_grained_s_8x_16x)/sqrt(26*180),\n",
    "Statistics.cor(learned_8x16t_100, reshape(coarse_grained_s_8x_16x, 26*180))^2),\n",
    "\n",
    "(StatsBase.L1dist(learned_8x16t_200, coarse_grained_s_8x_16x)/(26*180),\n",
    "StatsBase.L2dist(learned_8x16t_200, coarse_grained_s_8x_16x)/sqrt(26*180),\n",
    "Statistics.cor(learned_8x16t_200, reshape(coarse_grained_s_8x_16x, 26*180))^2),\n",
    "\n",
    "(StatsBase.L1dist(learned_8x16t_500, coarse_grained_s_8x_16x)/(26*180),\n",
    "StatsBase.L2dist(learned_8x16t_500, coarse_grained_s_8x_16x)/sqrt(26*180),\n",
    "Statistics.cor(learned_8x16t_500, reshape(coarse_grained_s_8x_16x, 26*180))^2)"
   ]
  },
  {
   "cell_type": "code",
   "execution_count": 102,
   "id": "ca54e3bc",
   "metadata": {},
   "outputs": [
    {
     "data": {
      "text/plain": [
       "((5.9222384379478246e-9, 8.62217043114232e-9, Float32[0.90107745;;]), (4.408687094934938e-9, 6.424129866462083e-9, Float32[0.934025;;]))"
      ]
     },
     "execution_count": 102,
     "metadata": {},
     "output_type": "execute_result"
    }
   ],
   "source": [
    "(StatsBase.L1dist(learned_8x32t_100, coarse_grained_s_8x_32x)/(26*90),\n",
    "StatsBase.L2dist(learned_8x32t_100, coarse_grained_s_8x_32x)/sqrt(26*90),\n",
    "Statistics.cor(learned_8x32t_100, reshape(coarse_grained_s_8x_32x, 26*90))^2),\n",
    "\n",
    "(StatsBase.L1dist(learned_8x64t_100, coarse_grained_s_8x_64x)/(26*45),\n",
    "StatsBase.L2dist(learned_8x64t_100, coarse_grained_s_8x_64x)/sqrt(26*45),\n",
    "Statistics.cor(learned_8x64t_100, reshape(coarse_grained_s_8x_64x, 26*45))^2)"
   ]
  },
  {
   "cell_type": "code",
   "execution_count": 104,
   "id": "913eb188",
   "metadata": {},
   "outputs": [
    {
     "data": {
      "text/plain": [
       "((0.001848935075949106, 0.007032001861704561, Float32[0.054597553;;]), (1.0086777203290687e-7, 1.4961265495241517e-7, Float32[0.17382856;;]), (6.342173493405211e-8, 9.675134676394001e-8, Float32[0.09507695;;]))"
      ]
     },
     "execution_count": 104,
     "metadata": {},
     "output_type": "execute_result"
    }
   ],
   "source": [
    "(StatsBase.L1dist(learned_16x1t_50, coarse_grained_s_16x)/(13*2880),\n",
    "StatsBase.L2dist(learned_16x1t_50, coarse_grained_s_16x)/sqrt(13*2880),\n",
    "Statistics.cor(learned_16x1t_50, reshape(coarse_grained_s_16x, 13*2880))^2),\n",
    "\n",
    "(StatsBase.L1dist(learned_16x1t_100, coarse_grained_s_16x)/(13*2880),\n",
    "StatsBase.L2dist(learned_16x1t_100, coarse_grained_s_16x)/sqrt(13*2880),\n",
    "Statistics.cor(learned_16x1t_100, reshape(coarse_grained_s_16x, 13*2880))^2),\n",
    "\n",
    "(StatsBase.L1dist(learned_16x1t_200, coarse_grained_s_16x)/(13*2880),\n",
    "StatsBase.L2dist(learned_16x1t_200, coarse_grained_s_16x)/sqrt(13*2880),\n",
    "Statistics.cor(learned_16x1t_200, reshape(coarse_grained_s_16x, 13*2880))^2)"
   ]
  },
  {
   "cell_type": "code",
   "execution_count": 105,
   "id": "bb331051",
   "metadata": {},
   "outputs": [
    {
     "data": {
      "text/plain": [
       "((6.469632438609721e-8, 1.467859996720627e-7, Float32[0.001478592;;]), (5.6013436676971346e7, 4.370399079970418e8, Float32[0.0022487415;;]))"
      ]
     },
     "execution_count": 105,
     "metadata": {},
     "output_type": "execute_result"
    }
   ],
   "source": [
    "(StatsBase.L1dist(learned_16x2t_100, coarse_grained_s_16x_2x)/(13*1440),\n",
    "StatsBase.L2dist(learned_16x2t_100, coarse_grained_s_16x_2x)/sqrt(13*1440),\n",
    "Statistics.cor(learned_16x2t_100, reshape(coarse_grained_s_16x_2x, 13*1440))^2),\n",
    "\n",
    "(StatsBase.L1dist(learned_16x2t_200, coarse_grained_s_16x_2x)/(13*1440),\n",
    "StatsBase.L2dist(learned_16x2t_200, coarse_grained_s_16x_2x)/sqrt(13*1440),\n",
    "Statistics.cor(learned_16x2t_200, reshape(coarse_grained_s_16x_2x, 13*1440))^2)"
   ]
  },
  {
   "cell_type": "code",
   "execution_count": 106,
   "id": "a30e1f1e",
   "metadata": {},
   "outputs": [
    {
     "data": {
      "text/plain": [
       "((1.0862933197139205e-8, 1.5815880421467983e-8, Float32[0.63122845;;]), (1.467041310560636e-8, 2.2102956354058464e-8, Float32[0.5812987;;]))"
      ]
     },
     "execution_count": 106,
     "metadata": {},
     "output_type": "execute_result"
    }
   ],
   "source": [
    "(StatsBase.L1dist(learned_16x4t_100, coarse_grained_s_16x_4x)/(13*720),\n",
    "StatsBase.L2dist(learned_16x4t_100, coarse_grained_s_16x_4x)/sqrt(13*720),\n",
    "Statistics.cor(learned_16x4t_100, reshape(coarse_grained_s_16x_4x, 13*720))^2),\n",
    "\n",
    "(StatsBase.L1dist(learned_16x4t_200, coarse_grained_s_16x_4x)/(13*720),\n",
    "StatsBase.L2dist(learned_16x4t_200, coarse_grained_s_16x_4x)/sqrt(13*720),\n",
    "Statistics.cor(learned_16x4t_200, reshape(coarse_grained_s_16x_4x, 13*720))^2)"
   ]
  },
  {
   "cell_type": "code",
   "execution_count": 107,
   "id": "490d176b",
   "metadata": {},
   "outputs": [
    {
     "data": {
      "text/plain": [
       "((1.524554391958748e-8, 2.1792021188625917e-8, Float32[0.42123827;;]), (1.1723662332456284e-8, 1.6738549066949633e-8, Float32[0.61953664;;]), (1.1723662332456284e-8, 1.6738549066949633e-8, Float32[0.61953664;;]))"
      ]
     },
     "execution_count": 107,
     "metadata": {},
     "output_type": "execute_result"
    }
   ],
   "source": [
    "(StatsBase.L1dist(learned_16x8t_100, coarse_grained_s_16x_8x)/(13*360),\n",
    "StatsBase.L2dist(learned_16x8t_100, coarse_grained_s_16x_8x)/sqrt(13*360),\n",
    "Statistics.cor(learned_16x8t_100, reshape(coarse_grained_s_16x_8x, 13*360))^2),\n",
    "\n",
    "(StatsBase.L1dist(learned_16x8t_200, coarse_grained_s_16x_8x)/(13*360),\n",
    "StatsBase.L2dist(learned_16x8t_200, coarse_grained_s_16x_8x)/sqrt(13*360),\n",
    "Statistics.cor(learned_16x8t_200, reshape(coarse_grained_s_16x_8x, 13*360))^2),\n",
    "\n",
    "(StatsBase.L1dist(learned_16x8t_500, coarse_grained_s_16x_8x)/(13*360),\n",
    "StatsBase.L2dist(learned_16x8t_500, coarse_grained_s_16x_8x)/sqrt(13*360),\n",
    "Statistics.cor(learned_16x8t_500, reshape(coarse_grained_s_16x_8x, 13*360))^2)"
   ]
  },
  {
   "cell_type": "code",
   "execution_count": 108,
   "id": "f0e0f06b",
   "metadata": {},
   "outputs": [
    {
     "data": {
      "text/plain": [
       "((1.728953142721947e-8, 2.4898771934576995e-8, Float32[0.3823141;;]), (1.424621920952898e-8, 1.8265062989562544e-8, Float32[0.63777524;;]), (1.3617831688540274e-8, 1.73998757923189e-8, Float32[0.694489;;]))"
      ]
     },
     "execution_count": 108,
     "metadata": {},
     "output_type": "execute_result"
    }
   ],
   "source": [
    "(StatsBase.L1dist(learned_16x16t_100, coarse_grained_s_16x_16x)/(13*180),\n",
    "StatsBase.L2dist(learned_16x16t_100, coarse_grained_s_16x_16x)/sqrt(13*180),\n",
    "Statistics.cor(learned_16x16t_100, reshape(coarse_grained_s_16x_16x, 13*180))^2),\n",
    "\n",
    "(StatsBase.L1dist(learned_16x16t_200, coarse_grained_s_16x_16x)/(13*180),\n",
    "StatsBase.L2dist(learned_16x16t_200, coarse_grained_s_16x_16x)/sqrt(13*180),\n",
    "Statistics.cor(learned_16x16t_200, reshape(coarse_grained_s_16x_16x, 13*180))^2),\n",
    "\n",
    "(StatsBase.L1dist(learned_16x16t_500, coarse_grained_s_16x_16x)/(13*180),\n",
    "StatsBase.L2dist(learned_16x16t_500, coarse_grained_s_16x_16x)/sqrt(13*180),\n",
    "Statistics.cor(learned_16x16t_500, reshape(coarse_grained_s_16x_16x, 13*180))^2)"
   ]
  },
  {
   "cell_type": "code",
   "execution_count": 109,
   "id": "ac3e628a",
   "metadata": {},
   "outputs": [
    {
     "data": {
      "text/plain": [
       "((1.1334488329480073e-8, 1.6899220735025144e-8, Float32[0.69850534;;]), (8.899331230765504e-9, 1.3930771416588438e-8, Float32[0.6894574;;]), (1.1559741732221829e-8, 1.6532834217920722e-8, Float32[0.56627905;;]), (1.3559147989588999e-8, 1.9423865817225447e-8, Float32[0.44660175;;]))"
      ]
     },
     "execution_count": 109,
     "metadata": {},
     "output_type": "execute_result"
    }
   ],
   "source": [
    "(StatsBase.L1dist(learned_16x32t_100, coarse_grained_s_16x_32x)/(13*90),\n",
    "StatsBase.L2dist(learned_16x32t_100, coarse_grained_s_16x_32x)/sqrt(13*90),\n",
    "Statistics.cor(learned_16x32t_100, reshape(coarse_grained_s_16x_32x, 13*90))^2),\n",
    "\n",
    "(StatsBase.L1dist(learned_16x32t_200, coarse_grained_s_16x_32x)/(13*90),\n",
    "StatsBase.L2dist(learned_16x32t_200, coarse_grained_s_16x_32x)/sqrt(13*90),\n",
    "Statistics.cor(learned_16x32t_200, reshape(coarse_grained_s_16x_32x, 13*90))^2),\n",
    "\n",
    "(StatsBase.L1dist(learned_16x32t_500, coarse_grained_s_16x_32x)/(13*90),\n",
    "StatsBase.L2dist(learned_16x32t_500, coarse_grained_s_16x_32x)/sqrt(13*90),\n",
    "Statistics.cor(learned_16x32t_500, reshape(coarse_grained_s_16x_32x, 13*90))^2),\n",
    "\n",
    "(StatsBase.L1dist(learned_16x32t_1000, coarse_grained_s_16x_32x)/(13*90),\n",
    "StatsBase.L2dist(learned_16x32t_1000, coarse_grained_s_16x_32x)/sqrt(13*90),\n",
    "Statistics.cor(learned_16x32t_1000, reshape(coarse_grained_s_16x_32x, 13*90))^2)"
   ]
  },
  {
   "cell_type": "code",
   "execution_count": 110,
   "id": "03dabe43",
   "metadata": {},
   "outputs": [
    {
     "data": {
      "text/plain": [
       "((7.141493176325488e-9, 1.0963742581029424e-8, Float32[0.78461;;]), (8.345030610601417e-9, 1.2374812514060432e-8, Float32[0.73403466;;]), (9.383091239580306e-9, 1.3688395641170609e-8, Float32[0.6834029;;]), (9.629929020547694e-9, 1.4027631156824002e-8, Float32[0.6694462;;]))"
      ]
     },
     "execution_count": 110,
     "metadata": {},
     "output_type": "execute_result"
    }
   ],
   "source": [
    "(StatsBase.L1dist(learned_16x64t_100, coarse_grained_s_16x_64x)/(13*45),\n",
    "StatsBase.L2dist(learned_16x64t_100, coarse_grained_s_16x_64x)/sqrt(13*45),\n",
    "Statistics.cor(learned_16x64t_100, reshape(coarse_grained_s_16x_64x, 13*45))^2),\n",
    "\n",
    "(StatsBase.L1dist(learned_16x64t_200, coarse_grained_s_16x_64x)/(13*45),\n",
    "StatsBase.L2dist(learned_16x64t_200, coarse_grained_s_16x_64x)/sqrt(13*45),\n",
    "Statistics.cor(learned_16x64t_200, reshape(coarse_grained_s_16x_64x, 13*45))^2),\n",
    "\n",
    "(StatsBase.L1dist(learned_16x64t_500, coarse_grained_s_16x_64x)/(13*45),\n",
    "StatsBase.L2dist(learned_16x64t_500, coarse_grained_s_16x_64x)/sqrt(13*45),\n",
    "Statistics.cor(learned_16x64t_500, reshape(coarse_grained_s_16x_64x, 13*45))^2),\n",
    "\n",
    "(StatsBase.L1dist(learned_16x64t_1000, coarse_grained_s_16x_64x)/(13*45),\n",
    "StatsBase.L2dist(learned_16x64t_1000, coarse_grained_s_16x_64x)/sqrt(13*45),\n",
    "Statistics.cor(learned_16x64t_1000, reshape(coarse_grained_s_16x_64x, 13*45))^2)"
   ]
  }
 ],
 "metadata": {
  "kernelspec": {
   "display_name": "Julia 1.7.1",
   "language": "julia",
   "name": "julia-1.7"
  },
  "language_info": {
   "file_extension": ".jl",
   "mimetype": "application/julia",
   "name": "julia",
   "version": "1.7.1"
  }
 },
 "nbformat": 4,
 "nbformat_minor": 5
}
